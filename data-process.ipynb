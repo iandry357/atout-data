{
 "cells": [
  {
   "cell_type": "code",
   "execution_count": 2,
   "metadata": {},
   "outputs": [],
   "source": [
    "import numpy as np\n",
    "import pandas as pd\n"
   ]
  },
  {
   "cell_type": "code",
   "execution_count": 3,
   "metadata": {},
   "outputs": [],
   "source": [
    "df = pd.read_csv(\"hebergements_classes.csv\", sep=';', delimiter=None)"
   ]
  },
  {
   "cell_type": "code",
   "execution_count": 6,
   "metadata": {},
   "outputs": [
    {
     "data": {
      "text/html": [
       "<div>\n",
       "<style scoped>\n",
       "    .dataframe tbody tr th:only-of-type {\n",
       "        vertical-align: middle;\n",
       "    }\n",
       "\n",
       "    .dataframe tbody tr th {\n",
       "        vertical-align: top;\n",
       "    }\n",
       "\n",
       "    .dataframe thead th {\n",
       "        text-align: right;\n",
       "    }\n",
       "</style>\n",
       "<table border=\"1\" class=\"dataframe\">\n",
       "  <thead>\n",
       "    <tr style=\"text-align: right;\">\n",
       "      <th></th>\n",
       "      <th>DATE DE CLASSEMENT</th>\n",
       "      <th>TYPOLOGIE ÉTABLISSEMENT</th>\n",
       "      <th>CLASSEMENT</th>\n",
       "      <th>CATÉGORIE</th>\n",
       "      <th>MENTION (villages de vacances)</th>\n",
       "      <th>NOM COMMERCIAL</th>\n",
       "      <th>ADRESSE</th>\n",
       "      <th>CODE POSTAL</th>\n",
       "      <th>COMMUNE</th>\n",
       "      <th>SITE INTERNET</th>\n",
       "      <th>TYPE DE SÉJOUR</th>\n",
       "      <th>CAPACITÉ D'ACCUEIL (PERSONNES)</th>\n",
       "      <th>NOMBRE DE CHAMBRES</th>\n",
       "      <th>NOMBRE D'EMPLACEMENTS</th>\n",
       "      <th>NOMBRE D'UNITES D'HABITATION (résidences de tourisme)</th>\n",
       "      <th>NOMBRE DE LOGEMENTS (villages de vacances)</th>\n",
       "    </tr>\n",
       "  </thead>\n",
       "  <tbody>\n",
       "    <tr>\n",
       "      <th>0</th>\n",
       "      <td>18/10/2018</td>\n",
       "      <td>HÔTEL DE TOURISME</td>\n",
       "      <td>4 étoiles</td>\n",
       "      <td>-</td>\n",
       "      <td>-</td>\n",
       "      <td>1872 STADIUM HÔTEL</td>\n",
       "      <td>Boulevard de Leningrad</td>\n",
       "      <td>76600</td>\n",
       "      <td>LE HAVRE</td>\n",
       "      <td>https://www.1872stadiumhotel.com/fr/</td>\n",
       "      <td>-</td>\n",
       "      <td>40</td>\n",
       "      <td>20</td>\n",
       "      <td>-</td>\n",
       "      <td>-</td>\n",
       "      <td>-</td>\n",
       "    </tr>\n",
       "    <tr>\n",
       "      <th>1</th>\n",
       "      <td>20/10/2021</td>\n",
       "      <td>HÔTEL DE TOURISME</td>\n",
       "      <td>4 étoiles</td>\n",
       "      <td>-</td>\n",
       "      <td>-</td>\n",
       "      <td>25HOURS HÔTEL TERMINUS NORD</td>\n",
       "      <td>12 boulevard de Denain</td>\n",
       "      <td>75010</td>\n",
       "      <td>PARIS 10E ARRONDISSEMENT</td>\n",
       "      <td>https://www.25hours-hotels.com/fr</td>\n",
       "      <td>-</td>\n",
       "      <td>489</td>\n",
       "      <td>237</td>\n",
       "      <td>-</td>\n",
       "      <td>-</td>\n",
       "      <td>-</td>\n",
       "    </tr>\n",
       "    <tr>\n",
       "      <th>2</th>\n",
       "      <td>26/09/2019</td>\n",
       "      <td>HÔTEL DE TOURISME</td>\n",
       "      <td>2 étoiles</td>\n",
       "      <td>-</td>\n",
       "      <td>-</td>\n",
       "      <td>3B HÔTEL DE BORDEAUX</td>\n",
       "      <td>66 avenue de la Libération</td>\n",
       "      <td>33440</td>\n",
       "      <td>AMBARÈS-ET-LAGRAVE</td>\n",
       "      <td>https://www.hotel-restaurant-gironde.fr/</td>\n",
       "      <td>-</td>\n",
       "      <td>26</td>\n",
       "      <td>14</td>\n",
       "      <td>-</td>\n",
       "      <td>-</td>\n",
       "      <td>-</td>\n",
       "    </tr>\n",
       "    <tr>\n",
       "      <th>3</th>\n",
       "      <td>12/06/2017</td>\n",
       "      <td>HÔTEL DE TOURISME</td>\n",
       "      <td>4 étoiles</td>\n",
       "      <td>-</td>\n",
       "      <td>-</td>\n",
       "      <td>5 TERRES HÔTEL &amp; SPA MGALLERY BY SOFITEL</td>\n",
       "      <td>11 Place de l'Hôtel de ville</td>\n",
       "      <td>67140</td>\n",
       "      <td>BARR</td>\n",
       "      <td>https://5terres-hotel.fr/fr/</td>\n",
       "      <td>-</td>\n",
       "      <td>56</td>\n",
       "      <td>27</td>\n",
       "      <td>-</td>\n",
       "      <td>-</td>\n",
       "      <td>-</td>\n",
       "    </tr>\n",
       "    <tr>\n",
       "      <th>4</th>\n",
       "      <td>22/09/2017</td>\n",
       "      <td>HÔTEL DE TOURISME</td>\n",
       "      <td>4 étoiles</td>\n",
       "      <td>-</td>\n",
       "      <td>-</td>\n",
       "      <td>7HÔTEL&amp;SPA</td>\n",
       "      <td>550 Boulevard Sébastien Brandt</td>\n",
       "      <td>67400</td>\n",
       "      <td>ILLKIRCH-GRAFFENSTADEN</td>\n",
       "      <td>https://7hotel.fr/</td>\n",
       "      <td>-</td>\n",
       "      <td>312</td>\n",
       "      <td>139</td>\n",
       "      <td>-</td>\n",
       "      <td>-</td>\n",
       "      <td>-</td>\n",
       "    </tr>\n",
       "  </tbody>\n",
       "</table>\n",
       "</div>"
      ],
      "text/plain": [
       "  DATE DE CLASSEMENT TYPOLOGIE ÉTABLISSEMENT CLASSEMENT CATÉGORIE  \\\n",
       "0         18/10/2018       HÔTEL DE TOURISME  4 étoiles         -   \n",
       "1         20/10/2021       HÔTEL DE TOURISME  4 étoiles         -   \n",
       "2         26/09/2019       HÔTEL DE TOURISME  2 étoiles         -   \n",
       "3         12/06/2017       HÔTEL DE TOURISME  4 étoiles         -   \n",
       "4         22/09/2017       HÔTEL DE TOURISME  4 étoiles         -   \n",
       "\n",
       "  MENTION (villages de vacances)                            NOM COMMERCIAL  \\\n",
       "0                              -                        1872 STADIUM HÔTEL   \n",
       "1                              -               25HOURS HÔTEL TERMINUS NORD   \n",
       "2                              -                      3B HÔTEL DE BORDEAUX   \n",
       "3                              -  5 TERRES HÔTEL & SPA MGALLERY BY SOFITEL   \n",
       "4                              -                                7HÔTEL&SPA   \n",
       "\n",
       "                          ADRESSE  CODE POSTAL                   COMMUNE  \\\n",
       "0          Boulevard de Leningrad        76600                  LE HAVRE   \n",
       "1          12 boulevard de Denain        75010  PARIS 10E ARRONDISSEMENT   \n",
       "2      66 avenue de la Libération        33440        AMBARÈS-ET-LAGRAVE   \n",
       "3    11 Place de l'Hôtel de ville        67140                      BARR   \n",
       "4  550 Boulevard Sébastien Brandt        67400    ILLKIRCH-GRAFFENSTADEN   \n",
       "\n",
       "                              SITE INTERNET TYPE DE SÉJOUR  \\\n",
       "0      https://www.1872stadiumhotel.com/fr/              -   \n",
       "1         https://www.25hours-hotels.com/fr              -   \n",
       "2  https://www.hotel-restaurant-gironde.fr/              -   \n",
       "3              https://5terres-hotel.fr/fr/              -   \n",
       "4                        https://7hotel.fr/              -   \n",
       "\n",
       "  CAPACITÉ D'ACCUEIL (PERSONNES) NOMBRE DE CHAMBRES NOMBRE D'EMPLACEMENTS  \\\n",
       "0                             40                 20                     -   \n",
       "1                            489                237                     -   \n",
       "2                             26                 14                     -   \n",
       "3                             56                 27                     -   \n",
       "4                            312                139                     -   \n",
       "\n",
       "  NOMBRE D'UNITES D'HABITATION (résidences de tourisme)  \\\n",
       "0                                                  -      \n",
       "1                                                  -      \n",
       "2                                                  -      \n",
       "3                                                  -      \n",
       "4                                                  -      \n",
       "\n",
       "  NOMBRE DE LOGEMENTS (villages de vacances)  \n",
       "0                                          -  \n",
       "1                                          -  \n",
       "2                                          -  \n",
       "3                                          -  \n",
       "4                                          -  "
      ]
     },
     "execution_count": 6,
     "metadata": {},
     "output_type": "execute_result"
    }
   ],
   "source": [
    "df.head()"
   ]
  },
  {
   "cell_type": "code",
   "execution_count": 10,
   "metadata": {},
   "outputs": [
    {
     "data": {
      "text/plain": [
       "TYPOLOGIE ÉTABLISSEMENT\n",
       "CAMPING                         6083\n",
       "HÔTEL DE TOURISME              13461\n",
       "PARC RÉSIDENTIEL DE LOISIRS      157\n",
       "RÉSIDENCE DE TOURISME           1603\n",
       "VILLAGE DE VACANCES              563\n",
       "dtype: int64"
      ]
     },
     "execution_count": 10,
     "metadata": {},
     "output_type": "execute_result"
    }
   ],
   "source": [
    "df.groupby(['TYPOLOGIE ÉTABLISSEMENT']).size()"
   ]
  },
  {
   "cell_type": "code",
   "execution_count": 9,
   "metadata": {},
   "outputs": [
    {
     "data": {
      "text/plain": [
       "CLASSEMENT\n",
       "1 étoile            853\n",
       "2 étoiles          6015\n",
       "3 étoiles         10190\n",
       "4 étoiles          4016\n",
       "5 étoiles           750\n",
       "Aire naturelle       43\n",
       "dtype: int64"
      ]
     },
     "execution_count": 9,
     "metadata": {},
     "output_type": "execute_result"
    }
   ],
   "source": [
    "df.groupby(['CLASSEMENT']).size()"
   ]
  },
  {
   "cell_type": "code",
   "execution_count": 14,
   "metadata": {},
   "outputs": [
    {
     "data": {
      "text/plain": [
       "DATE DE CLASSEMENT                                       8407\n",
       "TYPOLOGIE ÉTABLISSEMENT                                  8407\n",
       "CLASSEMENT                                               8407\n",
       "CATÉGORIE                                                8407\n",
       "MENTION (villages de vacances)                           8407\n",
       "NOM COMMERCIAL                                           8407\n",
       "ADRESSE                                                  8407\n",
       "CODE POSTAL                                              8407\n",
       "COMMUNE                                                  8407\n",
       "SITE INTERNET                                            8407\n",
       "TYPE DE SÉJOUR                                           8407\n",
       "CAPACITÉ D'ACCUEIL (PERSONNES)                           8407\n",
       "NOMBRE DE CHAMBRES                                       8407\n",
       "NOMBRE D'EMPLACEMENTS                                    8407\n",
       "NOMBRE D'UNITES D'HABITATION (résidences de tourisme)    8407\n",
       "NOMBRE DE LOGEMENTS (villages de vacances)               8407\n",
       "dtype: int64"
      ]
     },
     "execution_count": 14,
     "metadata": {},
     "output_type": "execute_result"
    }
   ],
   "source": [
    "df.where(df['NOMBRE DE CHAMBRES']=='-').count()"
   ]
  }
 ],
 "metadata": {
  "interpreter": {
   "hash": "df0893f56f349688326838aaeea0de204df53a132722cbd565e54b24a8fec5f6"
  },
  "kernelspec": {
   "display_name": "",
   "language": "python",
   "name": "python3"
  },
  "language_info": {
   "codemirror_mode": {
    "name": "ipython",
    "version": 3
   },
   "file_extension": ".py",
   "mimetype": "text/x-python",
   "name": "python",
   "nbconvert_exporter": "python",
   "pygments_lexer": "ipython3",
   "version": "3.8.10"
  },
  "orig_nbformat": 4
 },
 "nbformat": 4,
 "nbformat_minor": 2
}
