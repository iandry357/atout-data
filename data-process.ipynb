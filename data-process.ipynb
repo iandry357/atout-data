{
 "cells": [
  {
   "cell_type": "code",
   "execution_count": 2,
   "metadata": {},
   "outputs": [],
   "source": [
    "import numpy as np\n",
    "import pandas as pd\n"
   ]
  },
  {
   "cell_type": "code",
   "execution_count": 58,
   "metadata": {},
   "outputs": [],
   "source": [
    "df = pd.read_csv(\"hebergements_classes.csv\", sep=';', delimiter=None)"
   ]
  },
  {
   "cell_type": "code",
   "execution_count": 59,
   "metadata": {},
   "outputs": [
    {
     "data": {
      "text/html": [
       "<div>\n",
       "<style scoped>\n",
       "    .dataframe tbody tr th:only-of-type {\n",
       "        vertical-align: middle;\n",
       "    }\n",
       "\n",
       "    .dataframe tbody tr th {\n",
       "        vertical-align: top;\n",
       "    }\n",
       "\n",
       "    .dataframe thead th {\n",
       "        text-align: right;\n",
       "    }\n",
       "</style>\n",
       "<table border=\"1\" class=\"dataframe\">\n",
       "  <thead>\n",
       "    <tr style=\"text-align: right;\">\n",
       "      <th></th>\n",
       "      <th>DATE DE CLASSEMENT</th>\n",
       "      <th>TYPOLOGIE ÉTABLISSEMENT</th>\n",
       "      <th>CLASSEMENT</th>\n",
       "      <th>CATÉGORIE</th>\n",
       "      <th>MENTION (villages de vacances)</th>\n",
       "      <th>NOM COMMERCIAL</th>\n",
       "      <th>ADRESSE</th>\n",
       "      <th>CODE POSTAL</th>\n",
       "      <th>COMMUNE</th>\n",
       "      <th>SITE INTERNET</th>\n",
       "      <th>TYPE DE SÉJOUR</th>\n",
       "      <th>CAPACITÉ D'ACCUEIL (PERSONNES)</th>\n",
       "      <th>NOMBRE DE CHAMBRES</th>\n",
       "      <th>NOMBRE D'EMPLACEMENTS</th>\n",
       "      <th>NOMBRE D'UNITES D'HABITATION (résidences de tourisme)</th>\n",
       "      <th>NOMBRE DE LOGEMENTS (villages de vacances)</th>\n",
       "    </tr>\n",
       "  </thead>\n",
       "  <tbody>\n",
       "    <tr>\n",
       "      <th>0</th>\n",
       "      <td>18/10/2018</td>\n",
       "      <td>HÔTEL DE TOURISME</td>\n",
       "      <td>4 étoiles</td>\n",
       "      <td>-</td>\n",
       "      <td>-</td>\n",
       "      <td>1872 STADIUM HÔTEL</td>\n",
       "      <td>Boulevard de Leningrad</td>\n",
       "      <td>76600</td>\n",
       "      <td>LE HAVRE</td>\n",
       "      <td>https://www.1872stadiumhotel.com/fr/</td>\n",
       "      <td>-</td>\n",
       "      <td>40</td>\n",
       "      <td>20</td>\n",
       "      <td>-</td>\n",
       "      <td>-</td>\n",
       "      <td>-</td>\n",
       "    </tr>\n",
       "    <tr>\n",
       "      <th>1</th>\n",
       "      <td>20/10/2021</td>\n",
       "      <td>HÔTEL DE TOURISME</td>\n",
       "      <td>4 étoiles</td>\n",
       "      <td>-</td>\n",
       "      <td>-</td>\n",
       "      <td>25HOURS HÔTEL TERMINUS NORD</td>\n",
       "      <td>12 boulevard de Denain</td>\n",
       "      <td>75010</td>\n",
       "      <td>PARIS 10E ARRONDISSEMENT</td>\n",
       "      <td>https://www.25hours-hotels.com/fr</td>\n",
       "      <td>-</td>\n",
       "      <td>489</td>\n",
       "      <td>237</td>\n",
       "      <td>-</td>\n",
       "      <td>-</td>\n",
       "      <td>-</td>\n",
       "    </tr>\n",
       "    <tr>\n",
       "      <th>2</th>\n",
       "      <td>26/09/2019</td>\n",
       "      <td>HÔTEL DE TOURISME</td>\n",
       "      <td>2 étoiles</td>\n",
       "      <td>-</td>\n",
       "      <td>-</td>\n",
       "      <td>3B HÔTEL DE BORDEAUX</td>\n",
       "      <td>66 avenue de la Libération</td>\n",
       "      <td>33440</td>\n",
       "      <td>AMBARÈS-ET-LAGRAVE</td>\n",
       "      <td>https://www.hotel-restaurant-gironde.fr/</td>\n",
       "      <td>-</td>\n",
       "      <td>26</td>\n",
       "      <td>14</td>\n",
       "      <td>-</td>\n",
       "      <td>-</td>\n",
       "      <td>-</td>\n",
       "    </tr>\n",
       "    <tr>\n",
       "      <th>3</th>\n",
       "      <td>12/06/2017</td>\n",
       "      <td>HÔTEL DE TOURISME</td>\n",
       "      <td>4 étoiles</td>\n",
       "      <td>-</td>\n",
       "      <td>-</td>\n",
       "      <td>5 TERRES HÔTEL &amp; SPA MGALLERY BY SOFITEL</td>\n",
       "      <td>11 Place de l'Hôtel de ville</td>\n",
       "      <td>67140</td>\n",
       "      <td>BARR</td>\n",
       "      <td>https://5terres-hotel.fr/fr/</td>\n",
       "      <td>-</td>\n",
       "      <td>56</td>\n",
       "      <td>27</td>\n",
       "      <td>-</td>\n",
       "      <td>-</td>\n",
       "      <td>-</td>\n",
       "    </tr>\n",
       "    <tr>\n",
       "      <th>4</th>\n",
       "      <td>22/09/2017</td>\n",
       "      <td>HÔTEL DE TOURISME</td>\n",
       "      <td>4 étoiles</td>\n",
       "      <td>-</td>\n",
       "      <td>-</td>\n",
       "      <td>7HÔTEL&amp;SPA</td>\n",
       "      <td>550 Boulevard Sébastien Brandt</td>\n",
       "      <td>67400</td>\n",
       "      <td>ILLKIRCH-GRAFFENSTADEN</td>\n",
       "      <td>https://7hotel.fr/</td>\n",
       "      <td>-</td>\n",
       "      <td>312</td>\n",
       "      <td>139</td>\n",
       "      <td>-</td>\n",
       "      <td>-</td>\n",
       "      <td>-</td>\n",
       "    </tr>\n",
       "  </tbody>\n",
       "</table>\n",
       "</div>"
      ],
      "text/plain": [
       "  DATE DE CLASSEMENT TYPOLOGIE ÉTABLISSEMENT CLASSEMENT CATÉGORIE  \\\n",
       "0         18/10/2018       HÔTEL DE TOURISME  4 étoiles         -   \n",
       "1         20/10/2021       HÔTEL DE TOURISME  4 étoiles         -   \n",
       "2         26/09/2019       HÔTEL DE TOURISME  2 étoiles         -   \n",
       "3         12/06/2017       HÔTEL DE TOURISME  4 étoiles         -   \n",
       "4         22/09/2017       HÔTEL DE TOURISME  4 étoiles         -   \n",
       "\n",
       "  MENTION (villages de vacances)                            NOM COMMERCIAL  \\\n",
       "0                              -                        1872 STADIUM HÔTEL   \n",
       "1                              -               25HOURS HÔTEL TERMINUS NORD   \n",
       "2                              -                      3B HÔTEL DE BORDEAUX   \n",
       "3                              -  5 TERRES HÔTEL & SPA MGALLERY BY SOFITEL   \n",
       "4                              -                                7HÔTEL&SPA   \n",
       "\n",
       "                          ADRESSE  CODE POSTAL                   COMMUNE  \\\n",
       "0          Boulevard de Leningrad        76600                  LE HAVRE   \n",
       "1          12 boulevard de Denain        75010  PARIS 10E ARRONDISSEMENT   \n",
       "2      66 avenue de la Libération        33440        AMBARÈS-ET-LAGRAVE   \n",
       "3    11 Place de l'Hôtel de ville        67140                      BARR   \n",
       "4  550 Boulevard Sébastien Brandt        67400    ILLKIRCH-GRAFFENSTADEN   \n",
       "\n",
       "                              SITE INTERNET TYPE DE SÉJOUR  \\\n",
       "0      https://www.1872stadiumhotel.com/fr/              -   \n",
       "1         https://www.25hours-hotels.com/fr              -   \n",
       "2  https://www.hotel-restaurant-gironde.fr/              -   \n",
       "3              https://5terres-hotel.fr/fr/              -   \n",
       "4                        https://7hotel.fr/              -   \n",
       "\n",
       "  CAPACITÉ D'ACCUEIL (PERSONNES) NOMBRE DE CHAMBRES NOMBRE D'EMPLACEMENTS  \\\n",
       "0                             40                 20                     -   \n",
       "1                            489                237                     -   \n",
       "2                             26                 14                     -   \n",
       "3                             56                 27                     -   \n",
       "4                            312                139                     -   \n",
       "\n",
       "  NOMBRE D'UNITES D'HABITATION (résidences de tourisme)  \\\n",
       "0                                                  -      \n",
       "1                                                  -      \n",
       "2                                                  -      \n",
       "3                                                  -      \n",
       "4                                                  -      \n",
       "\n",
       "  NOMBRE DE LOGEMENTS (villages de vacances)  \n",
       "0                                          -  \n",
       "1                                          -  \n",
       "2                                          -  \n",
       "3                                          -  \n",
       "4                                          -  "
      ]
     },
     "execution_count": 59,
     "metadata": {},
     "output_type": "execute_result"
    }
   ],
   "source": [
    "df.head()"
   ]
  },
  {
   "cell_type": "code",
   "execution_count": 85,
   "metadata": {},
   "outputs": [
    {
     "name": "stdout",
     "output_type": "stream",
     "text": [
      "<class 'pandas.core.frame.DataFrame'>\n",
      "RangeIndex: 21867 entries, 0 to 21866\n",
      "Data columns (total 16 columns):\n",
      " #   Column                                                 Non-Null Count  Dtype         \n",
      "---  ------                                                 --------------  -----         \n",
      " 0   DATE DE CLASSEMENT                                     21867 non-null  datetime64[ns]\n",
      " 1   TYPOLOGIE ÉTABLISSEMENT                                21867 non-null  object        \n",
      " 2   CLASSEMENT                                             21867 non-null  object        \n",
      " 3   CATÉGORIE                                              21867 non-null  object        \n",
      " 4   MENTION (villages de vacances)                         21867 non-null  object        \n",
      " 5   NOM COMMERCIAL                                         21867 non-null  object        \n",
      " 6   ADRESSE                                                21867 non-null  object        \n",
      " 7   CODE POSTAL                                            21867 non-null  int64         \n",
      " 8   COMMUNE                                                21867 non-null  object        \n",
      " 9   SITE INTERNET                                          21867 non-null  object        \n",
      " 10  TYPE DE SÉJOUR                                         21867 non-null  object        \n",
      " 11  CAPACITÉ D'ACCUEIL (PERSONNES)                         21867 non-null  int64         \n",
      " 12  NOMBRE DE CHAMBRES                                     21867 non-null  int64         \n",
      " 13  NOMBRE D'EMPLACEMENTS                                  21867 non-null  int64         \n",
      " 14  NOMBRE D'UNITES D'HABITATION (résidences de tourisme)  21867 non-null  int64         \n",
      " 15  NOMBRE DE LOGEMENTS (villages de vacances)             21867 non-null  int64         \n",
      "dtypes: datetime64[ns](1), int64(6), object(9)\n",
      "memory usage: 2.7+ MB\n"
     ]
    }
   ],
   "source": [
    "df.info()"
   ]
  },
  {
   "cell_type": "code",
   "execution_count": 81,
   "metadata": {},
   "outputs": [
    {
     "data": {
      "text/plain": [
       "TYPOLOGIE ÉTABLISSEMENT\n",
       "CAMPING                         6083\n",
       "HÔTEL DE TOURISME              13461\n",
       "PARC RÉSIDENTIEL DE LOISIRS      157\n",
       "RÉSIDENCE DE TOURISME           1603\n",
       "VILLAGE DE VACANCES              563\n",
       "dtype: int64"
      ]
     },
     "execution_count": 81,
     "metadata": {},
     "output_type": "execute_result"
    }
   ],
   "source": [
    "df.groupby(['TYPOLOGIE ÉTABLISSEMENT']).size()"
   ]
  },
  {
   "cell_type": "code",
   "execution_count": 75,
   "metadata": {},
   "outputs": [
    {
     "data": {
      "text/plain": [
       "CLASSEMENT\n",
       "1 étoile            853\n",
       "2 étoiles          6015\n",
       "3 étoiles         10190\n",
       "4 étoiles          4016\n",
       "5 étoiles           750\n",
       "Aire naturelle       43\n",
       "dtype: int64"
      ]
     },
     "execution_count": 75,
     "metadata": {},
     "output_type": "execute_result"
    }
   ],
   "source": [
    "df.groupby(['CLASSEMENT']).size()"
   ]
  },
  {
   "cell_type": "code",
   "execution_count": 82,
   "metadata": {},
   "outputs": [
    {
     "data": {
      "text/plain": [
       "TYPOLOGIE ÉTABLISSEMENT      CLASSEMENT    \n",
       "CAMPING                      1 étoile           342\n",
       "                             2 étoiles         1716\n",
       "                             3 étoiles         2481\n",
       "                             4 étoiles         1245\n",
       "                             5 étoiles          256\n",
       "                             Aire naturelle      43\n",
       "HÔTEL DE TOURISME            1 étoile           400\n",
       "                             2 étoiles         3988\n",
       "                             3 étoiles         6374\n",
       "                             4 étoiles         2250\n",
       "                             5 étoiles          449\n",
       "PARC RÉSIDENTIEL DE LOISIRS  1 étoile            24\n",
       "                             2 étoiles           30\n",
       "                             3 étoiles           65\n",
       "                             4 étoiles           33\n",
       "                             5 étoiles            5\n",
       "RÉSIDENCE DE TOURISME        1 étoile            54\n",
       "                             2 étoiles          183\n",
       "                             3 étoiles          911\n",
       "                             4 étoiles          418\n",
       "                             5 étoiles           37\n",
       "VILLAGE DE VACANCES          1 étoile            33\n",
       "                             2 étoiles           98\n",
       "                             3 étoiles          359\n",
       "                             4 étoiles           70\n",
       "                             5 étoiles            3\n",
       "dtype: int64"
      ]
     },
     "execution_count": 82,
     "metadata": {},
     "output_type": "execute_result"
    }
   ],
   "source": [
    "df.groupby(['TYPOLOGIE ÉTABLISSEMENT', 'CLASSEMENT']).size()"
   ]
  },
  {
   "cell_type": "code",
   "execution_count": 76,
   "metadata": {},
   "outputs": [
    {
     "data": {
      "text/plain": [
       "CATÉGORIE\n",
       "LOISIRS           1007\n",
       "NON RENSEIGNÉ    15829\n",
       "TOURISME          5031\n",
       "dtype: int64"
      ]
     },
     "execution_count": 76,
     "metadata": {},
     "output_type": "execute_result"
    }
   ],
   "source": [
    "df.groupby(['CATÉGORIE']).size()"
   ]
  },
  {
   "cell_type": "markdown",
   "metadata": {},
   "source": [
    "MENTION (villages de vacances) <br />\n",
    "TYPE DE SÉJOUR <br />\n",
    "CAPACITÉ D'ACCUEIL (PERSONNES) <br />\n",
    "NOMBRE DE CHAMBRES <br />\n",
    "NOMBRE D'EMPLACEMENTS <br />\n",
    "NOMBRE D'UNITES D'HABITATION (résidences de tourisme) <br />\n",
    "NOMBRE DE LOGEMENTS (villages de vacances) <br />\n"
   ]
  },
  {
   "cell_type": "code",
   "execution_count": 77,
   "metadata": {},
   "outputs": [
    {
     "name": "stdout",
     "output_type": "stream",
     "text": [
      "                           index  MENTION (villages de vacances)\n",
      "0                  NON RENSEIGNÉ                           21593\n",
      "1                            NON                             128\n",
      "2           HEBERGEMENT_DISPERSE                              82\n",
      "3              HEBERGEMENT_LEGER                              61\n",
      "4  HEBERGEMENT_LEGER_ET_DISPERSE                               3\n",
      "\n",
      "                      index  TYPE DE SÉJOUR\n",
      "0             NON RENSEIGNÉ           21304\n",
      "1           FORMULE_PENSION             244\n",
      "2          FORMULE_LOCATION             160\n",
      "3  FORMULE_LOCATION_PENSION             159\n"
     ]
    }
   ],
   "source": [
    "dfGroupMention = df[\"MENTION (villages de vacances)\"].value_counts(ascending=False).reset_index()\n",
    "print(dfGroupMention.head())\n",
    "print()\n",
    "\n",
    "dfGroupTypeSejour = df[\"TYPE DE SÉJOUR\"].value_counts(ascending=False).reset_index()\n",
    "print(dfGroupTypeSejour.head())\n"
   ]
  },
  {
   "cell_type": "code",
   "execution_count": 72,
   "metadata": {},
   "outputs": [
    {
     "name": "stdout",
     "output_type": "stream",
     "text": [
      "  index  CAPACITÉ D'ACCUEIL (PERSONNES)\n",
      "0   400                             270\n",
      "1   200                             246\n",
      "2   100                             237\n",
      "3    20                             219\n",
      "4   300                             201\n",
      "  index  NOMBRE DE CHAMBRES\n",
      "0     0                8407\n",
      "1    10                 432\n",
      "2    20                 401\n",
      "3    15                 352\n",
      "4    12                 343\n",
      "  index  NOMBRE D'EMPLACEMENTS\n",
      "0     0                  15626\n",
      "1   100                    231\n",
      "2    50                    153\n",
      "3    80                    109\n",
      "4    60                    103\n",
      "  index  NOMBRE D'UNITES D'HABITATION (résidences de tourisme)\n",
      "0     0                                              20267    \n",
      "1   100                                                 26    \n",
      "2    50                                                 20    \n",
      "3    54                                                 19    \n",
      "4    64                                                 19    \n",
      "  index  NOMBRE DE LOGEMENTS (villages de vacances)\n",
      "0     0                                       21304\n",
      "1    40                                          17\n",
      "2    50                                          13\n",
      "3    42                                          11\n",
      "4    65                                          10\n"
     ]
    }
   ],
   "source": [
    "dfGroupNbC = df[\"CAPACITÉ D'ACCUEIL (PERSONNES)\"].value_counts(ascending=False).reset_index()\n",
    "print(dfGroupNbC.head())\n",
    "\n",
    "dfGroupNbC = df['NOMBRE DE CHAMBRES'].value_counts(ascending=False).reset_index()\n",
    "print(dfGroupNbC.head())\n",
    "\n",
    "dfGroupNbE = df[\"NOMBRE D'EMPLACEMENTS\"].value_counts(ascending=False).reset_index()\n",
    "print(dfGroupNbE.head())\n",
    "\n",
    "dfGroupNbUH = df[\"NOMBRE D'UNITES D'HABITATION (résidences de tourisme)\"].value_counts(ascending=False).reset_index()\n",
    "print(dfGroupNbUH.head())\n",
    "\n",
    "dfGroupNbL = df['NOMBRE DE LOGEMENTS (villages de vacances)'].value_counts(ascending=False).reset_index()\n",
    "print(dfGroupNbL.head())\n",
    "\n"
   ]
  },
  {
   "cell_type": "code",
   "execution_count": 67,
   "metadata": {},
   "outputs": [
    {
     "data": {
      "text/html": [
       "<div>\n",
       "<style scoped>\n",
       "    .dataframe tbody tr th:only-of-type {\n",
       "        vertical-align: middle;\n",
       "    }\n",
       "\n",
       "    .dataframe tbody tr th {\n",
       "        vertical-align: top;\n",
       "    }\n",
       "\n",
       "    .dataframe thead th {\n",
       "        text-align: right;\n",
       "    }\n",
       "</style>\n",
       "<table border=\"1\" class=\"dataframe\">\n",
       "  <thead>\n",
       "    <tr style=\"text-align: right;\">\n",
       "      <th></th>\n",
       "      <th>DATE DE CLASSEMENT</th>\n",
       "      <th>TYPOLOGIE ÉTABLISSEMENT</th>\n",
       "      <th>CLASSEMENT</th>\n",
       "      <th>CATÉGORIE</th>\n",
       "      <th>MENTION (villages de vacances)</th>\n",
       "      <th>NOM COMMERCIAL</th>\n",
       "      <th>ADRESSE</th>\n",
       "      <th>CODE POSTAL</th>\n",
       "      <th>COMMUNE</th>\n",
       "      <th>SITE INTERNET</th>\n",
       "      <th>TYPE DE SÉJOUR</th>\n",
       "      <th>CAPACITÉ D'ACCUEIL (PERSONNES)</th>\n",
       "      <th>NOMBRE DE CHAMBRES</th>\n",
       "      <th>NOMBRE D'EMPLACEMENTS</th>\n",
       "      <th>NOMBRE D'UNITES D'HABITATION (résidences de tourisme)</th>\n",
       "      <th>NOMBRE DE LOGEMENTS (villages de vacances)</th>\n",
       "    </tr>\n",
       "  </thead>\n",
       "  <tbody>\n",
       "    <tr>\n",
       "      <th>9433</th>\n",
       "      <td>17/07/2017</td>\n",
       "      <td>HÔTEL DE TOURISME</td>\n",
       "      <td>4 étoiles</td>\n",
       "      <td>-</td>\n",
       "      <td>-</td>\n",
       "      <td>HÔTEL CHÂTEAU DE LACAN</td>\n",
       "      <td>rue Jean Macé</td>\n",
       "      <td>19100</td>\n",
       "      <td>BRIVE-LA-GAILLARDE</td>\n",
       "      <td>www.hotelchateaulacan.com</td>\n",
       "      <td>-</td>\n",
       "      <td>37</td>\n",
       "      <td>15</td>\n",
       "      <td>436</td>\n",
       "      <td>-</td>\n",
       "      <td>-</td>\n",
       "    </tr>\n",
       "  </tbody>\n",
       "</table>\n",
       "</div>"
      ],
      "text/plain": [
       "     DATE DE CLASSEMENT TYPOLOGIE ÉTABLISSEMENT CLASSEMENT CATÉGORIE  \\\n",
       "9433         17/07/2017       HÔTEL DE TOURISME  4 étoiles         -   \n",
       "\n",
       "     MENTION (villages de vacances)          NOM COMMERCIAL        ADRESSE  \\\n",
       "9433                              -  HÔTEL CHÂTEAU DE LACAN  rue Jean Macé   \n",
       "\n",
       "      CODE POSTAL             COMMUNE              SITE INTERNET  \\\n",
       "9433        19100  BRIVE-LA-GAILLARDE  www.hotelchateaulacan.com   \n",
       "\n",
       "     TYPE DE SÉJOUR CAPACITÉ D'ACCUEIL (PERSONNES) NOMBRE DE CHAMBRES  \\\n",
       "9433              -                             37                 15   \n",
       "\n",
       "     NOMBRE D'EMPLACEMENTS  \\\n",
       "9433                   436   \n",
       "\n",
       "     NOMBRE D'UNITES D'HABITATION (résidences de tourisme)  \\\n",
       "9433                                                  -      \n",
       "\n",
       "     NOMBRE DE LOGEMENTS (villages de vacances)  \n",
       "9433                                          -  "
      ]
     },
     "execution_count": 67,
     "metadata": {},
     "output_type": "execute_result"
    }
   ],
   "source": [
    "# making boolean series for a team name\n",
    "filter1 = df[\"NOMBRE DE CHAMBRES\"]!=\"-\"\n",
    "  \n",
    "# making boolean series for age\n",
    "filter2 = df[\"NOMBRE D'EMPLACEMENTS\"]!=\"-\"\n",
    "  \n",
    "# filtering data on basis of both filters\n",
    "dfSelect = df.where(filter1 & filter2)\n",
    "\n",
    "# df.loc[(df['NOMBRE DE CHAMBRES']>=100) & (df[\"NOMBRE D'EMPLACEMENTS\"]< 60) & (df['FT_Team'].str.startswith('S')),['Name','FT_Team']]\n",
    "df.loc[(df['NOMBRE DE CHAMBRES']!='-') & (df[\"NOMBRE D'EMPLACEMENTS\"]!='-')]\n",
    "\n"
   ]
  },
  {
   "cell_type": "code",
   "execution_count": 74,
   "metadata": {},
   "outputs": [],
   "source": [
    "df[\"MENTION (villages de vacances)\"] = np.where((df[\"MENTION (villages de vacances)\"] == '-'),'NON RENSEIGNÉ',df[\"MENTION (villages de vacances)\"])\n",
    "\n",
    "df[\"TYPE DE SÉJOUR\"] = np.where((df[\"TYPE DE SÉJOUR\"] == '-'),'NON RENSEIGNÉ',df[\"TYPE DE SÉJOUR\"])\n",
    "\n",
    "df['CATÉGORIE'] = np.where((df['CATÉGORIE'] == '-'),'NON RENSEIGNÉ',df['CATÉGORIE'])\n",
    "\n",
    "df['CLASSEMENT'] = np.where((df['CLASSEMENT'] == '-'),'NON RENSEIGNÉ',df['CLASSEMENT'])\n",
    "\n",
    "\n"
   ]
  },
  {
   "cell_type": "code",
   "execution_count": 78,
   "metadata": {},
   "outputs": [],
   "source": [
    "# df['Event'] = np.where((df.Event == 'Painting'),'Art',df.Event)\n",
    "df[\"CAPACITÉ D'ACCUEIL (PERSONNES)\"] = np.where((df[\"CAPACITÉ D'ACCUEIL (PERSONNES)\"] == '-'),0,df[\"CAPACITÉ D'ACCUEIL (PERSONNES)\"])\n",
    "df[\"CAPACITÉ D'ACCUEIL (PERSONNES)\"] = pd.to_numeric(df[\"CAPACITÉ D'ACCUEIL (PERSONNES)\"])\n",
    "\n",
    "df['NOMBRE DE CHAMBRES'] = np.where((df['NOMBRE DE CHAMBRES'] == '-'),0,df['NOMBRE DE CHAMBRES'])\n",
    "df['NOMBRE DE CHAMBRES'] = pd.to_numeric(df['NOMBRE DE CHAMBRES'])\n",
    "\n",
    "df[\"NOMBRE D'EMPLACEMENTS\"] = np.where((df[\"NOMBRE D'EMPLACEMENTS\"] == '-'),0,df[\"NOMBRE D'EMPLACEMENTS\"])\n",
    "df[\"NOMBRE D'EMPLACEMENTS\"] = pd.to_numeric(df[\"NOMBRE D'EMPLACEMENTS\"])\n",
    "\n",
    "df[\"NOMBRE D'UNITES D'HABITATION (résidences de tourisme)\"] = np.where((df[\"NOMBRE D'UNITES D'HABITATION (résidences de tourisme)\"] == '-'),0,df[\"NOMBRE D'UNITES D'HABITATION (résidences de tourisme)\"])\n",
    "df[\"NOMBRE D'UNITES D'HABITATION (résidences de tourisme)\"] = pd.to_numeric(df[\"NOMBRE D'UNITES D'HABITATION (résidences de tourisme)\"])\n",
    "\n",
    "df['NOMBRE DE LOGEMENTS (villages de vacances)'] = np.where((df['NOMBRE DE LOGEMENTS (villages de vacances)'] == '-'),0,df['NOMBRE DE LOGEMENTS (villages de vacances)'])\n",
    "df['NOMBRE DE LOGEMENTS (villages de vacances)'] = pd.to_numeric(df['NOMBRE DE LOGEMENTS (villages de vacances)'])\n"
   ]
  },
  {
   "cell_type": "code",
   "execution_count": 84,
   "metadata": {},
   "outputs": [],
   "source": [
    "\n",
    "df['DATE DE CLASSEMENT']= pd.to_datetime(df['DATE DE CLASSEMENT'])"
   ]
  },
  {
   "cell_type": "code",
   "execution_count": 90,
   "metadata": {},
   "outputs": [],
   "source": [
    "df.head()\n",
    "df.keys()\n",
    "df.to_csv('Hebergements.csv', index=False, header=df.keys(), sep=';')"
   ]
  },
  {
   "cell_type": "code",
   "execution_count": null,
   "metadata": {},
   "outputs": [],
   "source": [
    "- installer en bdd, hebergement + région/departement </br>\n",
    "- créer une base de données SQL\n",
    "- transformer date et mapper avec les région/departement\n",
    "- créer des classes pythons pour récupérer les bons info"
   ]
  }
 ],
 "metadata": {
  "interpreter": {
   "hash": "df0893f56f349688326838aaeea0de204df53a132722cbd565e54b24a8fec5f6"
  },
  "kernelspec": {
   "display_name": "",
   "language": "python",
   "name": "python3"
  },
  "language_info": {
   "codemirror_mode": {
    "name": "ipython",
    "version": 3
   },
   "file_extension": ".py",
   "mimetype": "text/x-python",
   "name": "python",
   "nbconvert_exporter": "python",
   "pygments_lexer": "ipython3",
   "version": "3.8.10"
  },
  "orig_nbformat": 4
 },
 "nbformat": 4,
 "nbformat_minor": 2
}
