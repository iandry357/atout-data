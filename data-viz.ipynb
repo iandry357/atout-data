{
 "cells": [
  {
   "cell_type": "code",
   "execution_count": 11,
   "metadata": {},
   "outputs": [],
   "source": [
    "import pandas as pd\n",
    "import numpy as np\n",
    "import mysql.connector\n",
    "\n"
   ]
  },
  {
   "cell_type": "code",
   "execution_count": 12,
   "metadata": {},
   "outputs": [
    {
     "name": "stdout",
     "output_type": "stream",
     "text": [
      "['iandryAtout#iandryAtout#AtoutData']\n"
     ]
    },
    {
     "data": {
      "text/plain": [
       "('iandryAtout', 'iandryAtout', 'AtoutData')"
      ]
     },
     "execution_count": 12,
     "metadata": {},
     "output_type": "execute_result"
    }
   ],
   "source": [
    "def getConf():\n",
    "    file1 = open('conf.txt', 'r')\n",
    "    Lines = file1.readlines()\n",
    "    print(Lines)\n",
    "    user = Lines[0].split('#')[0]\n",
    "    pwd = Lines[0].split('#')[1]\n",
    "    db = Lines[0].split('#')[2]\n",
    "    \n",
    "    return user, pwd, db\n",
    "\n",
    "getConf()\n"
   ]
  },
  {
   "cell_type": "code",
   "execution_count": 27,
   "metadata": {},
   "outputs": [],
   "source": [
    "def getConnection(user, pwd, db):\n",
    "    mydb = mysql.connector.connect(\n",
    "    host=\"localhost\",\n",
    "    user=user,\n",
    "    password=pwd,\n",
    "    database=db\n",
    "    )\n",
    "\n",
    "\n",
    "    #cursor = mydb.cursor()\n",
    "\n",
    "\n",
    "    return mydb\n",
    "\n",
    "#getConnection(user, pwd, db)"
   ]
  },
  {
   "cell_type": "code",
   "execution_count": 46,
   "metadata": {},
   "outputs": [],
   "source": [
    "def queryHotel(typeEtablissement):\n",
    "    query = ('select distinct dc.dt, nom_region, accueil, nbChambre from HebergementInfo h, DateClassement dc, Localisation l '\\\n",
    "            'where h.dateId = dc.dateId and h.cp = l.code_postal and  `typeId` = (select typeId from TypeEtablissement where value = \"'+typeEtablissement+'\" ) and '\\\n",
    "            'h.dateId = dc.dateId ')\n",
    "    return query"
   ]
  },
  {
   "cell_type": "code",
   "execution_count": 58,
   "metadata": {},
   "outputs": [],
   "source": [
    "def getData(conn, typeEtablissement):\n",
    "    #query = ('SELECT * FROM HebergementInfo where `typeId` = (select typeId from TypeEtablissement ' \\\n",
    "    #        'where value = \"'+typeEtablissement+'\" )')\n",
    "    query = queryHotel(typeEtablissement)\n",
    "    print(query)\n",
    "    cursor = conn.cursor()\n",
    "\n",
    "    cursor.execute(query)\n",
    "\n",
    "\n",
    "    result = cursor.fetchall()\n",
    "\n",
    "    num_fields = len(cursor.description)\n",
    "    field = [i[0] for i in cursor.description]\n",
    "\n",
    "\n",
    "    return np.array(field), np.array(result)"
   ]
  },
  {
   "cell_type": "code",
   "execution_count": 59,
   "metadata": {},
   "outputs": [
    {
     "name": "stdout",
     "output_type": "stream",
     "text": [
      "['iandryAtout#iandryAtout#AtoutData']\n",
      "select distinct dc.dt, nom_region, accueil, nbChambre from HebergementInfo h, DateClassement dc, Localisation l where h.dateId = dc.dateId and h.cp = l.code_postal and  `typeId` = (select typeId from TypeEtablissement where value = \"HÔTEL DE TOURISME\" ) and h.dateId = dc.dateId \n",
      "['dt' 'nom_region' 'accueil' 'nbChambre']\n",
      "13085\n",
      "[[datetime.date(2020, 7, 15) 'Auvergne-Rhône-Alpes' '21' '10']\n",
      " [datetime.date(2017, 10, 18) 'Auvergne-Rhône-Alpes' '75' '50']\n",
      " [datetime.date(2017, 7, 24) 'Auvergne-Rhône-Alpes' '64' '31']\n",
      " [datetime.date(2016, 5, 25) 'Auvergne-Rhône-Alpes' '19' '10']\n",
      " [datetime.date(2017, 9, 10) 'Auvergne-Rhône-Alpes' '69' '35']]\n"
     ]
    }
   ],
   "source": [
    "user, pwd, db = getConf()\n",
    "conn = getConnection(user, pwd, db)\n",
    "\n",
    "fields, data = getData(conn, \"HÔTEL DE TOURISME\")\n",
    "print(fields)\n",
    "print(len(data))\n",
    "print(data[0:5])"
   ]
  },
  {
   "cell_type": "markdown",
   "metadata": {},
   "source": [
    "Combien de temps avant que les hotels doivent reclasser"
   ]
  },
  {
   "cell_type": "code",
   "execution_count": 67,
   "metadata": {},
   "outputs": [
    {
     "name": "stdout",
     "output_type": "stream",
     "text": [
      "Today's date: 2022-01-25\n",
      "13085\n",
      "4\n",
      "(-2, 15)\n",
      "(-1, 561)\n",
      "(0, 1307)\n",
      "(1, 4928)\n",
      "(2, 2054)\n",
      "(3, 1696)\n",
      "(4, 811)\n",
      "(5, 1713)\n"
     ]
    }
   ],
   "source": [
    "from dateutil.relativedelta import relativedelta\n",
    "\n",
    "from datetime import date\n",
    "\n",
    "today = date.today()\n",
    "print(\"Today's date:\", today)\n",
    "\n",
    "dataAudit = []\n",
    "for i in data:\n",
    "    \"\"\"\n",
    "    print(i[0])\n",
    "    print(relativedelta(today, i[0]).years)\n",
    "    \"\"\"\n",
    "    dataAudit.append( [ i[getIndex(fields, 'dt')], 5 - (relativedelta(today, i[0]).years) , i[getIndex(fields, 'nom_region')] ] )\n",
    "    \n",
    "print(len(dataAudit))\n",
    "print(dataAudit[0][1])\n",
    "\n",
    "dataAudit = np.array(dataAudit)\n",
    "attente = dataAudit[:,1]\n",
    "attente = np.array(attente)\n",
    "\n",
    "att, ct = np.unique(attente, return_counts=True)\n",
    "\n",
    "for i in zip(att, ct):\n",
    "    print(i)\n",
    "\n",
    "\n",
    "\n",
    "#difference_in_years = relativedelta(end_date, start_date).years"
   ]
  }
 ],
 "metadata": {
  "interpreter": {
   "hash": "df0893f56f349688326838aaeea0de204df53a132722cbd565e54b24a8fec5f6"
  },
  "kernelspec": {
   "display_name": "",
   "language": "python",
   "name": "python3"
  },
  "language_info": {
   "codemirror_mode": {
    "name": "ipython",
    "version": 3
   },
   "file_extension": ".py",
   "mimetype": "text/x-python",
   "name": "python",
   "nbconvert_exporter": "python",
   "pygments_lexer": "ipython3",
   "version": "3.8.10"
  },
  "orig_nbformat": 4
 },
 "nbformat": 4,
 "nbformat_minor": 2
}
